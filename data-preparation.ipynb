{
 "cells": [
  {
   "cell_type": "code",
   "execution_count": 59,
   "metadata": {},
   "outputs": [],
   "source": [
    "from sklearn.preprocessing import StandardScaler, OneHotEncoder\n",
    "from sklearn.compose import ColumnTransformer\n",
    "import torch\n",
    "\n",
    "from transformers import BertModel, BertTokenizer"
   ]
  },
  {
   "cell_type": "code",
   "execution_count": 49,
   "metadata": {},
   "outputs": [],
   "source": [
    "import pandas as pd\n",
    "from machine_learning.readability_scorer import ReadabilityScorer\n",
    "from machine_learning.sentiment_model import SentimentModel\n",
    "from machine_learning.model import FakeNewsClassifier\n",
    "import datasets\n",
    "\n",
    "from config import base_columns"
   ]
  },
  {
   "cell_type": "code",
   "execution_count": 7,
   "metadata": {},
   "outputs": [],
   "source": [
    "train = pd.read_csv(\"data/train.csv\")\n",
    "test = pd.read_csv(\"data/test.csv\")\n",
    "valid = pd.read_csv(\"data/valid.csv\")"
   ]
  },
  {
   "cell_type": "code",
   "execution_count": 23,
   "metadata": {},
   "outputs": [],
   "source": [
    "dataset = \"chengxuphd/liar2\"\n",
    "dataset = datasets.load_dataset(dataset)\n",
    "train = pd.DataFrame(dataset[\"train\"])\n",
    "val= pd.DataFrame(dataset[\"validation\"])\n",
    "test = pd.DataFrame(dataset[\"test\"])"
   ]
  },
  {
   "cell_type": "code",
   "execution_count": 25,
   "metadata": {},
   "outputs": [],
   "source": [
    "readability_scorer = ReadabilityScorer()\n",
    "# Apply function to the DataFrame and expand dictionary into new columns\n",
    "df_features = train[\"statement\"].apply(readability_scorer.analyze_text_complexity).apply(pd.Series)\n",
    "# Merge new features into original DataFrame\n",
    "train = pd.concat([train, df_features], axis=1)"
   ]
  },
  {
   "cell_type": "code",
   "execution_count": 26,
   "metadata": {},
   "outputs": [
    {
     "data": {
      "text/html": [
       "<div>\n",
       "<style scoped>\n",
       "    .dataframe tbody tr th:only-of-type {\n",
       "        vertical-align: middle;\n",
       "    }\n",
       "\n",
       "    .dataframe tbody tr th {\n",
       "        vertical-align: top;\n",
       "    }\n",
       "\n",
       "    .dataframe thead th {\n",
       "        text-align: right;\n",
       "    }\n",
       "</style>\n",
       "<table border=\"1\" class=\"dataframe\">\n",
       "  <thead>\n",
       "    <tr style=\"text-align: right;\">\n",
       "      <th></th>\n",
       "      <th>id</th>\n",
       "      <th>label</th>\n",
       "      <th>statement</th>\n",
       "      <th>date</th>\n",
       "      <th>subject</th>\n",
       "      <th>speaker</th>\n",
       "      <th>speaker_description</th>\n",
       "      <th>state_info</th>\n",
       "      <th>true_counts</th>\n",
       "      <th>mostly_true_counts</th>\n",
       "      <th>...</th>\n",
       "      <th>false_counts</th>\n",
       "      <th>pants_on_fire_counts</th>\n",
       "      <th>context</th>\n",
       "      <th>justification</th>\n",
       "      <th>Lexical Diversity (TTR)</th>\n",
       "      <th>Average Word Length</th>\n",
       "      <th>Avg Syllables per Word</th>\n",
       "      <th>Difficult Word Ratio</th>\n",
       "      <th>Dependency Depth</th>\n",
       "      <th>Length</th>\n",
       "    </tr>\n",
       "  </thead>\n",
       "  <tbody>\n",
       "    <tr>\n",
       "      <th>0</th>\n",
       "      <td>13847</td>\n",
       "      <td>5</td>\n",
       "      <td>90 percent of Americans \"support universal bac...</td>\n",
       "      <td>October 2, 2017</td>\n",
       "      <td>government regulation;polls and public opinion...</td>\n",
       "      <td>chris abele</td>\n",
       "      <td>Chris Abele is Milwaukee County Executive, a p...</td>\n",
       "      <td>wisconsin</td>\n",
       "      <td>1</td>\n",
       "      <td>4</td>\n",
       "      <td>...</td>\n",
       "      <td>5</td>\n",
       "      <td>2</td>\n",
       "      <td>a tweet</td>\n",
       "      <td>\"Universal\" is the term for background checks ...</td>\n",
       "      <td>1.00</td>\n",
       "      <td>6.50</td>\n",
       "      <td>2.10</td>\n",
       "      <td>0.30</td>\n",
       "      <td>3.0</td>\n",
       "      <td>10.0</td>\n",
       "    </tr>\n",
       "    <tr>\n",
       "      <th>1</th>\n",
       "      <td>13411</td>\n",
       "      <td>1</td>\n",
       "      <td>Last year was one of the deadliest years ever ...</td>\n",
       "      <td>May 19, 2017</td>\n",
       "      <td>after the fact;congress;criminal justice;histo...</td>\n",
       "      <td>thom tillis</td>\n",
       "      <td>Thom Tillis is a Republican who serves as U.S....</td>\n",
       "      <td>north carolina</td>\n",
       "      <td>0</td>\n",
       "      <td>2</td>\n",
       "      <td>...</td>\n",
       "      <td>2</td>\n",
       "      <td>0</td>\n",
       "      <td>a press release supporting the Back The Blue A...</td>\n",
       "      <td>Sen. Thom Tillis, a North Carolina Republican,...</td>\n",
       "      <td>1.00</td>\n",
       "      <td>4.77</td>\n",
       "      <td>1.54</td>\n",
       "      <td>0.23</td>\n",
       "      <td>7.0</td>\n",
       "      <td>13.0</td>\n",
       "    </tr>\n",
       "    <tr>\n",
       "      <th>2</th>\n",
       "      <td>10882</td>\n",
       "      <td>0</td>\n",
       "      <td>Bernie Sanders's plan is \"to raise your taxes ...</td>\n",
       "      <td>October 28, 2015</td>\n",
       "      <td>taxes</td>\n",
       "      <td>chris christie</td>\n",
       "      <td>Chris Christie announced June 6, 2023 that he ...</td>\n",
       "      <td>national</td>\n",
       "      <td>21</td>\n",
       "      <td>20</td>\n",
       "      <td>...</td>\n",
       "      <td>17</td>\n",
       "      <td>8</td>\n",
       "      <td>Boulder, Colo</td>\n",
       "      <td>Christie said that Sanders’s plan is \"to raise...</td>\n",
       "      <td>0.90</td>\n",
       "      <td>4.40</td>\n",
       "      <td>1.40</td>\n",
       "      <td>0.20</td>\n",
       "      <td>4.0</td>\n",
       "      <td>10.0</td>\n",
       "    </tr>\n",
       "    <tr>\n",
       "      <th>3</th>\n",
       "      <td>20697</td>\n",
       "      <td>4</td>\n",
       "      <td>Voter ID is supported by an overwhelming major...</td>\n",
       "      <td>December 8, 2021</td>\n",
       "      <td>voter id laws</td>\n",
       "      <td>lee zeldin</td>\n",
       "      <td>Lee Zeldin is a Republican representing New Yo...</td>\n",
       "      <td>new york</td>\n",
       "      <td>1</td>\n",
       "      <td>2</td>\n",
       "      <td>...</td>\n",
       "      <td>0</td>\n",
       "      <td>0</td>\n",
       "      <td>a Tweet</td>\n",
       "      <td>Zeldin claimed voter identification requiremen...</td>\n",
       "      <td>0.95</td>\n",
       "      <td>4.85</td>\n",
       "      <td>1.70</td>\n",
       "      <td>0.20</td>\n",
       "      <td>6.0</td>\n",
       "      <td>20.0</td>\n",
       "    </tr>\n",
       "    <tr>\n",
       "      <th>4</th>\n",
       "      <td>6095</td>\n",
       "      <td>2</td>\n",
       "      <td>Says Barack Obama \"robbed Medicare (of) $716 b...</td>\n",
       "      <td>August 12, 2012</td>\n",
       "      <td>federal budget;history;medicare;retirement</td>\n",
       "      <td>mitt romney</td>\n",
       "      <td>Mitt Romney is a U.S. senator from Utah. He ra...</td>\n",
       "      <td>national</td>\n",
       "      <td>31</td>\n",
       "      <td>33</td>\n",
       "      <td>...</td>\n",
       "      <td>32</td>\n",
       "      <td>19</td>\n",
       "      <td>an interview on \"60 Minutes\"</td>\n",
       "      <td>Romney said, \"There's only one president that ...</td>\n",
       "      <td>1.00</td>\n",
       "      <td>5.00</td>\n",
       "      <td>1.82</td>\n",
       "      <td>0.55</td>\n",
       "      <td>6.0</td>\n",
       "      <td>11.0</td>\n",
       "    </tr>\n",
       "  </tbody>\n",
       "</table>\n",
       "<p>5 rows × 22 columns</p>\n",
       "</div>"
      ],
      "text/plain": [
       "      id  label                                          statement  \\\n",
       "0  13847      5  90 percent of Americans \"support universal bac...   \n",
       "1  13411      1  Last year was one of the deadliest years ever ...   \n",
       "2  10882      0  Bernie Sanders's plan is \"to raise your taxes ...   \n",
       "3  20697      4  Voter ID is supported by an overwhelming major...   \n",
       "4   6095      2  Says Barack Obama \"robbed Medicare (of) $716 b...   \n",
       "\n",
       "               date                                            subject  \\\n",
       "0   October 2, 2017  government regulation;polls and public opinion...   \n",
       "1      May 19, 2017  after the fact;congress;criminal justice;histo...   \n",
       "2  October 28, 2015                                              taxes   \n",
       "3  December 8, 2021                                      voter id laws   \n",
       "4   August 12, 2012         federal budget;history;medicare;retirement   \n",
       "\n",
       "          speaker                                speaker_description  \\\n",
       "0     chris abele  Chris Abele is Milwaukee County Executive, a p...   \n",
       "1     thom tillis  Thom Tillis is a Republican who serves as U.S....   \n",
       "2  chris christie  Chris Christie announced June 6, 2023 that he ...   \n",
       "3      lee zeldin  Lee Zeldin is a Republican representing New Yo...   \n",
       "4     mitt romney  Mitt Romney is a U.S. senator from Utah. He ra...   \n",
       "\n",
       "       state_info  true_counts  mostly_true_counts  ...  false_counts  \\\n",
       "0       wisconsin            1                   4  ...             5   \n",
       "1  north carolina            0                   2  ...             2   \n",
       "2        national           21                  20  ...            17   \n",
       "3        new york            1                   2  ...             0   \n",
       "4        national           31                  33  ...            32   \n",
       "\n",
       "   pants_on_fire_counts                                            context  \\\n",
       "0                     2                                            a tweet   \n",
       "1                     0  a press release supporting the Back The Blue A...   \n",
       "2                     8                                      Boulder, Colo   \n",
       "3                     0                                            a Tweet   \n",
       "4                    19                       an interview on \"60 Minutes\"   \n",
       "\n",
       "                                       justification Lexical Diversity (TTR)  \\\n",
       "0  \"Universal\" is the term for background checks ...                    1.00   \n",
       "1  Sen. Thom Tillis, a North Carolina Republican,...                    1.00   \n",
       "2  Christie said that Sanders’s plan is \"to raise...                    0.90   \n",
       "3  Zeldin claimed voter identification requiremen...                    0.95   \n",
       "4  Romney said, \"There's only one president that ...                    1.00   \n",
       "\n",
       "  Average Word Length  Avg Syllables per Word  Difficult Word Ratio  \\\n",
       "0                6.50                    2.10                  0.30   \n",
       "1                4.77                    1.54                  0.23   \n",
       "2                4.40                    1.40                  0.20   \n",
       "3                4.85                    1.70                  0.20   \n",
       "4                5.00                    1.82                  0.55   \n",
       "\n",
       "   Dependency Depth  Length  \n",
       "0               3.0    10.0  \n",
       "1               7.0    13.0  \n",
       "2               4.0    10.0  \n",
       "3               6.0    20.0  \n",
       "4               6.0    11.0  \n",
       "\n",
       "[5 rows x 22 columns]"
      ]
     },
     "execution_count": 26,
     "metadata": {},
     "output_type": "execute_result"
    }
   ],
   "source": [
    "train.head()"
   ]
  },
  {
   "cell_type": "code",
   "execution_count": 27,
   "metadata": {},
   "outputs": [
    {
     "name": "stderr",
     "output_type": "stream",
     "text": [
      "Device set to use cpu\n"
     ]
    }
   ],
   "source": [
    "sentiment_model = SentimentModel()\n",
    "statements = train[\"statement\"].tolist()\n",
    "train_sentiments = sentiment_model.generate(statements)"
   ]
  },
  {
   "cell_type": "code",
   "execution_count": 29,
   "metadata": {},
   "outputs": [],
   "source": [
    "train[\"sentiment\"] = train_sentiments"
   ]
  },
  {
   "cell_type": "code",
   "execution_count": 32,
   "metadata": {},
   "outputs": [],
   "source": [
    "numerical_cols = [\"Lexical Diversity (TTR)\", \"Average Word Length\", \"Avg Syllables per Word\", \"Difficult Word Ratio\", \"Dependency Depth\", \"Length\", \"sentiment\"]\n",
    "categorical_cols = []"
   ]
  },
  {
   "cell_type": "code",
   "execution_count": 60,
   "metadata": {},
   "outputs": [],
   "source": [
    "tabular_data_length = 7"
   ]
  },
  {
   "cell_type": "code",
   "execution_count": 61,
   "metadata": {},
   "outputs": [],
   "source": [
    "model = FakeNewsClassifier(tabular_data_length)"
   ]
  },
  {
   "cell_type": "code",
   "execution_count": 56,
   "metadata": {},
   "outputs": [],
   "source": [
    "def preprocessing(df, numerical_features: list, categorical_features: list):\n",
    "    \n",
    "    preprocessor = ColumnTransformer([\n",
    "        (\"num\", StandardScaler(), numerical_features),  \n",
    "        (\"cat\", OneHotEncoder(handle_unknown=\"ignore\"), categorical_features)  \n",
    "    ])\n",
    "\n",
    "    # Apply transformations\n",
    "    processed_features = preprocessor.fit_transform(df)\n",
    "    \n",
    "    tabular_tensor = torch.tensor(processed_features, dtype=torch.float32)\n",
    "    return tabular_tensor"
   ]
  },
  {
   "cell_type": "code",
   "execution_count": 57,
   "metadata": {},
   "outputs": [],
   "source": [
    "tab_data = preprocessing(train, numerical_cols, categorical_cols)"
   ]
  },
  {
   "cell_type": "code",
   "execution_count": 58,
   "metadata": {},
   "outputs": [
    {
     "data": {
      "text/plain": [
       "tensor([[ 0.7759,  2.3602,  1.8499,  ..., -1.2234, -0.9253, -0.2754],\n",
       "        [ 0.7759, -0.2250, -0.3840,  ...,  0.9456, -0.5345, -0.1704],\n",
       "        [-0.6089, -0.7779, -0.9425,  ..., -0.6812, -0.9253,  0.1229],\n",
       "        ...,\n",
       "        [-0.2904, -0.4044, -0.0649,  ...,  3.1145,  1.1590, -2.0132],\n",
       "        [ 0.7759,  0.5221, -0.4239,  ...,  0.4033, -0.2740, -0.3726],\n",
       "        [ 0.7759, -0.2549, -1.0223,  ..., -0.6812, -1.1859,  0.5006]])"
      ]
     },
     "execution_count": 58,
     "metadata": {},
     "output_type": "execute_result"
    }
   ],
   "source": [
    "tab_data"
   ]
  },
  {
   "cell_type": "code",
   "execution_count": null,
   "metadata": {},
   "outputs": [],
   "source": [
    "\n",
    "tokenizer = BertTokenizer.from_pretrained(\"bert-base-uncased\")\n",
    "encoded_inputs = tokenizer(statements, padding=True, truncation=True, max_length=512, return_tensors=\"pt\")\n",
    "\n",
    "tabular_features = tab_data\n",
    "\n",
    "# Model initialization\n",
    "model = FakeNewsClassifier(num_tabular_features=10)\n",
    "\n",
    "# Forward pass\n",
    "with torch.no_grad():\n",
    "    output = model(encoded_inputs[\"input_ids\"], encoded_inputs[\"attention_mask\"], tabular_features)\n",
    "\n",
    "print(output)  # Probabilities for fake news detection"
   ]
  },
  {
   "cell_type": "code",
   "execution_count": null,
   "metadata": {},
   "outputs": [],
   "source": []
  }
 ],
 "metadata": {
  "kernelspec": {
   "display_name": ".venv",
   "language": "python",
   "name": "python3"
  },
  "language_info": {
   "codemirror_mode": {
    "name": "ipython",
    "version": 3
   },
   "file_extension": ".py",
   "mimetype": "text/x-python",
   "name": "python",
   "nbconvert_exporter": "python",
   "pygments_lexer": "ipython3",
   "version": "3.11.5"
  }
 },
 "nbformat": 4,
 "nbformat_minor": 2
}
