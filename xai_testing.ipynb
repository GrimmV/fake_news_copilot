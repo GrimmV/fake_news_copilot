{
 "cells": [
  {
   "cell_type": "code",
   "execution_count": null,
   "metadata": {},
   "outputs": [],
   "source": [
    "import pandas as pd\n",
    "import numpy as np\n",
    "import os\n",
    "import pickle\n",
    "import datasets\n",
    "from sklearn.model_selection import train_test_split\n",
    "\n",
    "from machine_learning.rf.text_feature_extractor import TextFeatureExtractor\n",
    "from xai.shap_individual import SHAPIndividual\n"
   ]
  },
  {
   "cell_type": "code",
   "execution_count": null,
   "metadata": {},
   "outputs": [],
   "source": [
    "\n",
    "def _retrieve_model(path=\"model_rf.pkl\"):\n",
    "    cache = f\"model/{path}\"\n",
    "        \n",
    "    # Check if cached file exists\n",
    "    if os.path.exists(cache):\n",
    "        with open(cache, \"rb\") as f:\n",
    "            print(\"Loading cached Model...\")\n",
    "            model = pickle.load(f)\n",
    "            return model\n",
    "    else:\n",
    "        print(\"No model found. Train a model first, to explain it.\")\n",
    "        return None"
   ]
  },
  {
   "cell_type": "code",
   "execution_count": null,
   "metadata": {},
   "outputs": [],
   "source": [
    "dataset = \"chengxuphd/liar2\"\n",
    "dataset = datasets.load_dataset(dataset)\n",
    "train_raw = pd.DataFrame(dataset[\"train\"])\n",
    "\n",
    "X_train, X_test, y_train, y_test = train_test_split(train_raw['statement'].to_list(), train_raw['label'].to_list(), test_size=0.2, random_state=42)\n",
    "\n",
    "extractor = TextFeatureExtractor(X_train)\n",
    "\n",
    "bow_features = extractor.extract_bow_features(X_train)\n",
    "meta_features, meta_feature_names = extractor.extract_meta_features(X_train)\n",
    "\n",
    "bow_feature_names = extractor.vectorizer.get_feature_names_out()\n",
    "\n",
    "# Combine features\n",
    "combined_features = np.hstack((bow_features, meta_features))\n",
    "\n",
    "print(combined_features.shape)\n",
    "print(combined_features[:5].shape)\n",
    "\n",
    "model = _retrieve_model()\n",
    "\n",
    "shap_explainer = SHAPIndividual(model, background_data=combined_features[5:205], bow_feature_names=bow_feature_names, meta_feature_names=meta_feature_names)\n",
    "shap_explainer.explain(combined_features[:5])"
   ]
  }
 ],
 "metadata": {
  "language_info": {
   "name": "python"
  }
 },
 "nbformat": 4,
 "nbformat_minor": 2
}
