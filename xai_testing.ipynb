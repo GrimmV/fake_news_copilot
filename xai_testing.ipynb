{
 "cells": [
  {
   "cell_type": "code",
   "execution_count": 74,
   "metadata": {},
   "outputs": [],
   "source": [
    "import pandas as pd\n",
    "import numpy as np\n",
    "import os\n",
    "import pickle\n",
    "import datasets\n",
    "from sklearn.model_selection import train_test_split\n",
    "\n",
    "from machine_learning.rf.text_feature_extractor import TextFeatureExtractor\n",
    "from xai.shap_individual import SHAPIndividual\n",
    "import shap\n",
    "import matplotlib.pyplot as plt"
   ]
  },
  {
   "cell_type": "code",
   "execution_count": 2,
   "metadata": {},
   "outputs": [],
   "source": [
    "def _retrieve_model(path=\"model_rf.pkl\"):\n",
    "    cache = f\"model/{path}\"\n",
    "        \n",
    "    # Check if cached file exists\n",
    "    if os.path.exists(cache):\n",
    "        with open(cache, \"rb\") as f:\n",
    "            print(\"Loading cached Model...\")\n",
    "            model = pickle.load(f)\n",
    "            return model\n",
    "    else:\n",
    "        print(\"No model found. Train a model first, to explain it.\")\n",
    "        return None"
   ]
  },
  {
   "cell_type": "code",
   "execution_count": 79,
   "metadata": {
    "scrolled": true
   },
   "outputs": [
    {
     "name": "stdout",
     "output_type": "stream",
     "text": [
      "Loading cached DataFrame...\n",
      "(14695, 7)\n",
      "(14695, 15390)\n",
      "(5, 15390)\n",
      "Loading cached Model...\n",
      "['00' '000' '007' ... 'Dependency Depth' 'Length' 'sentiment']\n",
      "[[[ 0.00000000e+00  0.00000000e+00  0.00000000e+00  0.00000000e+00\n",
      "    0.00000000e+00  0.00000000e+00]\n",
      "  [ 1.23038992e-03  2.30400413e-05  1.30709177e-03 -2.23390821e-03\n",
      "   -1.35629039e-03  1.02967697e-03]\n",
      "  [ 0.00000000e+00  0.00000000e+00  0.00000000e+00  0.00000000e+00\n",
      "    0.00000000e+00  0.00000000e+00]\n",
      "  ...\n",
      "  [-7.42557979e-04 -4.39425707e-04 -1.58644251e-03  3.34418734e-05\n",
      "    2.86532032e-04  2.44845246e-03]\n",
      "  [-1.90943356e-03 -3.90265458e-03 -6.14312834e-04  1.92647397e-03\n",
      "   -1.98981215e-04  4.69890836e-03]\n",
      "  [-3.27409021e-03 -2.21701583e-03  2.88659998e-04 -2.11192780e-03\n",
      "   -8.60578545e-04  8.17495239e-03]]\n",
      "\n",
      " [[ 0.00000000e+00  0.00000000e+00  0.00000000e+00  0.00000000e+00\n",
      "    0.00000000e+00  0.00000000e+00]\n",
      "  [ 1.39928704e-03  3.03445613e-04  3.53581169e-04 -1.27374752e-03\n",
      "   -1.22398815e-03  4.41421896e-04]\n",
      "  [ 0.00000000e+00  0.00000000e+00  0.00000000e+00  0.00000000e+00\n",
      "    0.00000000e+00  0.00000000e+00]\n",
      "  ...\n",
      "  [ 1.18580060e-03 -2.80631817e-03  9.05360734e-05 -9.35154461e-04\n",
      "    1.29014630e-03  1.17498957e-03]\n",
      "  [-4.59594712e-03 -1.72788919e-03  8.96178840e-04  3.47014658e-03\n",
      "    1.31025732e-03  6.47253555e-04]\n",
      "  [ 7.27240192e-03 -4.77851262e-04 -2.91593408e-03 -1.13794448e-03\n",
      "   -6.53772319e-04 -2.08689973e-03]]\n",
      "\n",
      " [[ 0.00000000e+00  0.00000000e+00  0.00000000e+00  0.00000000e+00\n",
      "    0.00000000e+00  0.00000000e+00]\n",
      "  [ 9.56598913e-04  2.27304664e-03  1.27523827e-04 -2.78723876e-03\n",
      "   -8.91156690e-04  3.21226170e-04]\n",
      "  [ 0.00000000e+00  0.00000000e+00  0.00000000e+00  0.00000000e+00\n",
      "    0.00000000e+00  0.00000000e+00]\n",
      "  ...\n",
      "  [-3.44531434e-03 -1.76816051e-03  5.82232419e-04  9.87043549e-04\n",
      "    2.59874499e-03  1.04545405e-03]\n",
      "  [ 4.61860898e-03  1.11029918e-02 -7.71355742e-03 -7.76463824e-03\n",
      "   -3.57958975e-03  3.33618417e-03]\n",
      "  [-7.63458180e-04  6.80053700e-04 -4.36253158e-04  6.41176248e-04\n",
      "    1.28600474e-03 -1.40752318e-03]]\n",
      "\n",
      " [[ 0.00000000e+00  0.00000000e+00  0.00000000e+00  0.00000000e+00\n",
      "    0.00000000e+00  0.00000000e+00]\n",
      "  [-5.40336283e-04  3.16280305e-03  4.13551534e-04 -2.44394367e-03\n",
      "   -8.93374369e-04  3.01299810e-04]\n",
      "  [ 0.00000000e+00  0.00000000e+00  0.00000000e+00  0.00000000e+00\n",
      "    0.00000000e+00  0.00000000e+00]\n",
      "  ...\n",
      "  [ 1.91447972e-04  1.76649418e-03 -1.39205274e-03 -1.41574362e-03\n",
      "    1.85405848e-03 -1.00420419e-03]\n",
      "  [-2.44109027e-03  5.40900331e-04  1.88700967e-03  3.34424098e-03\n",
      "   -2.32213667e-03 -1.00892425e-03]\n",
      "  [ 3.18807620e-04  2.85593335e-03 -7.12826063e-04 -1.59475086e-03\n",
      "   -1.13638334e-03  2.69219469e-04]]\n",
      "\n",
      " [[ 0.00000000e+00  0.00000000e+00  0.00000000e+00  0.00000000e+00\n",
      "    0.00000000e+00  0.00000000e+00]\n",
      "  [ 9.54169769e-04  9.96124600e-04  1.23739411e-03 -1.92750863e-03\n",
      "   -1.07996671e-03 -1.80212966e-04]\n",
      "  [ 0.00000000e+00  0.00000000e+00  0.00000000e+00  0.00000000e+00\n",
      "    0.00000000e+00  0.00000000e+00]\n",
      "  ...\n",
      "  [-9.32892937e-04 -3.29023823e-03  2.46246416e-03 -9.63327936e-04\n",
      "    3.56861518e-03 -8.44620157e-04]\n",
      "  [-4.37649770e-03  9.23896758e-04 -1.30859602e-03 -1.81794481e-03\n",
      "    6.27172406e-03  3.07417842e-04]\n",
      "  [ 1.25643849e-03 -2.82652133e-03  1.82507206e-03 -2.11441643e-03\n",
      "    3.28233954e-03 -1.42291240e-03]]]\n",
      "(5, 15390, 6)\n",
      "SHAP Explanation for the first sample:\n"
     ]
    },
    {
     "data": {
      "text/plain": [
       "<Figure size 640x480 with 0 Axes>"
      ]
     },
     "metadata": {},
     "output_type": "display_data"
    },
    {
     "data": {
      "image/png": "[encoded data removed]",
      "text/plain": [
       "<Figure size 1150x660 with 1 Axes>"
      ]
     },
     "metadata": {},
     "output_type": "display_data"
    }
   ],
   "source": [
    "dataset = \"chengxuphd/liar2\"\n",
    "dataset = datasets.load_dataset(dataset)\n",
    "train_raw = pd.DataFrame(dataset[\"train\"])\n",
    "\n",
    "X_train, X_test, y_train, y_test = train_test_split(train_raw['statement'].to_list(), train_raw['label'].to_list(), test_size=0.2, random_state=42)\n",
    "\n",
    "extractor = TextFeatureExtractor(X_train)\n",
    "\n",
    "bow_features = extractor.extract_bow_features(X_train)\n",
    "meta_features, meta_feature_names = extractor.extract_meta_features(X_train)\n",
    "\n",
    "bow_feature_names = extractor.vectorizer.get_feature_names_out()\n",
    "\n",
    "# Combine features\n",
    "combined_features = np.hstack((bow_features, meta_features))\n",
    "\n",
    "print(combined_features.shape)\n",
    "print(combined_features[:5].shape)\n",
    "\n",
    "model = _retrieve_model()\n",
    "\n",
    "shap_explainer = SHAPIndividual(model, background_data=combined_features[:1000], bow_feature_names=bow_feature_names, meta_feature_names=meta_feature_names)\n",
    "shap_explainer.explain(combined_features[1000:1005])"
   ]
  },
  {
   "cell_type": "code",
   "execution_count": 80,
   "metadata": {},
   "outputs": [
    {
     "ename": "AttributeError",
     "evalue": "'numpy.ndarray' object has no attribute 'output_names'",
     "output_type": "error",
     "traceback": [
      "\u001b[31m---------------------------------------------------------------------------\u001b[39m",
      "\u001b[31mAttributeError\u001b[39m                            Traceback (most recent call last)",
      "\u001b[36mCell\u001b[39m\u001b[36m \u001b[39m\u001b[32mIn[80]\u001b[39m\u001b[32m, line 1\u001b[39m\n\u001b[32m----> \u001b[39m\u001b[32m1\u001b[39m \u001b[43mshap\u001b[49m\u001b[43m.\u001b[49m\u001b[43mplots\u001b[49m\u001b[43m.\u001b[49m\u001b[43mtext\u001b[49m\u001b[43m(\u001b[49m\u001b[43mshap_explainer\u001b[49m\u001b[43m.\u001b[49m\u001b[43mshap_values\u001b[49m\u001b[43m[\u001b[49m\u001b[32;43m3\u001b[39;49m\u001b[43m]\u001b[49m\u001b[43m)\u001b[49m\n",
      "\u001b[36mFile \u001b[39m\u001b[32m~/fake_news_copilot/.venv/lib/python3.12/site-packages/shap/plots/_text.py:91\u001b[39m, in \u001b[36mtext\u001b[39m\u001b[34m(shap_values, num_starting_labels, grouping_threshold, separator, xmin, xmax, cmax, display)\u001b[39m\n\u001b[32m     88\u001b[39m uuid = \u001b[33m\"\u001b[39m\u001b[33m\"\u001b[39m.join(random.choices(string.ascii_lowercase, k=\u001b[32m20\u001b[39m))\n\u001b[32m     90\u001b[39m \u001b[38;5;66;03m# loop when we get multi-row inputs\u001b[39;00m\n\u001b[32m---> \u001b[39m\u001b[32m91\u001b[39m \u001b[38;5;28;01mif\u001b[39;00m \u001b[38;5;28mlen\u001b[39m(shap_values.shape) == \u001b[32m2\u001b[39m \u001b[38;5;129;01mand\u001b[39;00m (\u001b[43mshap_values\u001b[49m\u001b[43m.\u001b[49m\u001b[43moutput_names\u001b[49m \u001b[38;5;129;01mis\u001b[39;00m \u001b[38;5;28;01mNone\u001b[39;00m \u001b[38;5;129;01mor\u001b[39;00m \u001b[38;5;28misinstance\u001b[39m(shap_values.output_names, \u001b[38;5;28mstr\u001b[39m)):\n\u001b[32m     92\u001b[39m     xmin = \u001b[32m0\u001b[39m\n\u001b[32m     93\u001b[39m     xmax = \u001b[32m0\u001b[39m\n",
      "\u001b[31mAttributeError\u001b[39m: 'numpy.ndarray' object has no attribute 'output_names'"
     ]
    }
   ],
   "source": [
    "shap.plots.text(shap_explainer.shap_values[3])"
   ]
  },
  {
   "cell_type": "code",
   "execution_count": 82,
   "metadata": {},
   "outputs": [
    {
     "name": "stdout",
     "output_type": "stream",
     "text": [
      "[5 0 1 1 4]\n",
      "[5, 0, 1, 1, 4]\n"
     ]
    }
   ],
   "source": [
    "print(model.predict(combined_features[1000:1005]))\n",
    "print(y_train[1000:1005])"
   ]
  },
  {
   "cell_type": "code",
   "execution_count": 83,
   "metadata": {},
   "outputs": [],
   "source": [
    "tokens = list(map(extractor.vectorizer.build_tokenizer(),X_train))[1000]"
   ]
  },
  {
   "cell_type": "code",
   "execution_count": 84,
   "metadata": {},
   "outputs": [],
   "source": [
    "combined_feature_names = list(bow_feature_names) + list(meta_feature_names)"
   ]
  },
  {
   "cell_type": "code",
   "execution_count": 85,
   "metadata": {},
   "outputs": [],
   "source": [
    "shap_values = shap_explainer.shap_values[0]"
   ]
  },
  {
   "cell_type": "code",
   "execution_count": 86,
   "metadata": {},
   "outputs": [
    {
     "data": {
      "text/plain": [
       "(15390, 6)"
      ]
     },
     "execution_count": 86,
     "metadata": {},
     "output_type": "execute_result"
    }
   ],
   "source": [
    "shap_values.shape"
   ]
  },
  {
   "cell_type": "code",
   "execution_count": 92,
   "metadata": {},
   "outputs": [],
   "source": [
    "tokens = [token.lower() for token in tokens]"
   ]
  },
  {
   "cell_type": "code",
   "execution_count": 93,
   "metadata": {},
   "outputs": [
    {
     "name": "stdout",
     "output_type": "stream",
     "text": [
      "and: 0.009520081331493202\n",
      "assistance: -6.626985856200918e-05\n",
      "companies: 0.001920003793691194\n",
      "contracts: 2.4999998859129847e-05\n",
      "foreign: 0.012663645163361253\n",
      "form: 0.008685792419582868\n",
      "given: 0.002525053914155251\n",
      "grants: 0.021410498915138305\n",
      "in: 0.0103257155554752\n",
      "is: -0.0008986595655079555\n",
      "most: 0.01647429577924413\n",
      "nonprofits: 0.004534500427544117\n",
      "of: 0.013261653070272814\n",
      "the: 0.0012907544522579428\n",
      "to: -0.0002260586905725859\n",
      "Lexical Diversity (TTR): 0.015331082214889874\n",
      "Average Word Length: 0.0026972403004458557\n",
      "Avg Syllables per Word: 0.0020794251487274095\n",
      "Difficult Word Ratio: 0.006807496235708186\n",
      "Dependency Depth: 0.0024484524626359415\n",
      "Length: 0.004698908359230245\n",
      "sentiment: 0.008174952394310821\n"
     ]
    }
   ],
   "source": [
    "for i, elem in enumerate(shap_values):\n",
    "    if combined_feature_names[i] in tokens or combined_feature_names[i] in meta_feature_names:\n",
    "        print(f\"{combined_feature_names[i]}: {elem[5]}\")"
   ]
  },
  {
   "cell_type": "code",
   "execution_count": 30,
   "metadata": {},
   "outputs": [],
   "source": []
  },
  {
   "cell_type": "code",
   "execution_count": 32,
   "metadata": {},
   "outputs": [
    {
     "name": "stdout",
     "output_type": "stream",
     "text": [
      "SHAP Explanation for the first sample:\n"
     ]
    },
    {
     "ename": "IndexError",
     "evalue": "tuple index out of range",
     "output_type": "error",
     "traceback": [
      "\u001b[31m---------------------------------------------------------------------------\u001b[39m",
      "\u001b[31mIndexError\u001b[39m                                Traceback (most recent call last)",
      "\u001b[36mCell\u001b[39m\u001b[36m \u001b[39m\u001b[32mIn[32]\u001b[39m\u001b[32m, line 3\u001b[39m\n\u001b[32m      1\u001b[39m \u001b[38;5;66;03m# Visualize SHAP values for the first sample\u001b[39;00m\n\u001b[32m      2\u001b[39m \u001b[38;5;28mprint\u001b[39m(\u001b[33m\"\u001b[39m\u001b[33mSHAP Explanation for the first sample:\u001b[39m\u001b[33m\"\u001b[39m)\n\u001b[32m----> \u001b[39m\u001b[32m3\u001b[39m \u001b[43mshap\u001b[49m\u001b[43m.\u001b[49m\u001b[43msummary_plot\u001b[49m\u001b[43m(\u001b[49m\u001b[43mshap_values\u001b[49m\u001b[43m,\u001b[49m\u001b[43m \u001b[49m\u001b[43mcombined_features\u001b[49m\u001b[43m[\u001b[49m\u001b[32;43m0\u001b[39;49m\u001b[43m]\u001b[49m\u001b[43m,\u001b[49m\u001b[43m \u001b[49m\u001b[43mfeature_names\u001b[49m\u001b[43m=\u001b[49m\u001b[43mcombined_feature_names\u001b[49m\u001b[43m)\u001b[49m\n",
      "\u001b[36mFile \u001b[39m\u001b[32m~/fake_news_copilot/.venv/lib/python3.12/site-packages/shap/plots/_beeswarm.py:653\u001b[39m, in \u001b[36msummary_legacy\u001b[39m\u001b[34m(shap_values, features, feature_names, max_display, plot_type, color, axis_color, title, alpha, show, sort, color_bar, plot_size, layered_violin_max_num_bins, class_names, class_inds, color_bar_label, cmap, show_values_in_legend, use_log_scale, rng)\u001b[39m\n\u001b[32m    651\u001b[39m \u001b[38;5;28;01mif\u001b[39;00m features \u001b[38;5;129;01mis\u001b[39;00m \u001b[38;5;129;01mnot\u001b[39;00m \u001b[38;5;28;01mNone\u001b[39;00m:\n\u001b[32m    652\u001b[39m     shape_msg = \u001b[33m\"\u001b[39m\u001b[33mThe shape of the shap_values matrix does not match the shape of the provided data matrix.\u001b[39m\u001b[33m\"\u001b[39m\n\u001b[32m--> \u001b[39m\u001b[32m653\u001b[39m     \u001b[38;5;28;01mif\u001b[39;00m num_features - \u001b[32m1\u001b[39m == \u001b[43mfeatures\u001b[49m\u001b[43m.\u001b[49m\u001b[43mshape\u001b[49m\u001b[43m[\u001b[49m\u001b[32;43m1\u001b[39;49m\u001b[43m]\u001b[49m:\n\u001b[32m    654\u001b[39m         \u001b[38;5;28;01mraise\u001b[39;00m \u001b[38;5;167;01mValueError\u001b[39;00m(\n\u001b[32m    655\u001b[39m             shape_msg + \u001b[33m\"\u001b[39m\u001b[33m Perhaps the extra column in the shap_values matrix is the \u001b[39m\u001b[33m\"\u001b[39m\n\u001b[32m    656\u001b[39m             \u001b[33m\"\u001b[39m\u001b[33mconstant offset? Of so just pass shap_values[:,:-1].\u001b[39m\u001b[33m\"\u001b[39m\n\u001b[32m    657\u001b[39m         )\n\u001b[32m    658\u001b[39m     \u001b[38;5;28;01melse\u001b[39;00m:\n",
      "\u001b[31mIndexError\u001b[39m: tuple index out of range"
     ]
    },
    {
     "data": {
      "text/plain": [
       "<Figure size 640x480 with 0 Axes>"
      ]
     },
     "metadata": {},
     "output_type": "display_data"
    }
   ],
   "source": [
    "# Visualize SHAP values for the first sample\n",
    "print(\"SHAP Explanation for the first sample:\")\n",
    "shap.summary_plot(shap_values, combined_features[0], feature_names=combined_feature_names)"
   ]
  },
  {
   "cell_type": "code",
   "execution_count": null,
   "metadata": {},
   "outputs": [],
   "source": []
  }
 ],
 "metadata": {
  "kernelspec": {
   "display_name": "Python 3 (ipykernel)",
   "language": "python",
   "name": "python3"
  },
  "language_info": {
   "codemirror_mode": {
    "name": "ipython",
    "version": 3
   },
   "file_extension": ".py",
   "mimetype": "text/x-python",
   "name": "python",
   "nbconvert_exporter": "python",
   "pygments_lexer": "ipython3",
   "version": "3.12.3"
  }
 },
 "nbformat": 4,
 "nbformat_minor": 4
}
