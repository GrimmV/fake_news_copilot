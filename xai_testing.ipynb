{
 "cells": [
  {
   "cell_type": "code",
   "execution_count": null,
   "metadata": {},
   "outputs": [],
   "source": [
    "import pandas as pd\n",
    "import numpy as np\n",
    "import shap\n",
    "import matplotlib.pyplot as plt\n",
    "\n",
    "from xai.shap_individual import SHAPIndividual\n",
    "from utils.retrieve_model import retrieve_model\n",
    "from utils.retrieve_data import retrieve_data\n",
    "from utils.retrieve_trained_data import retrieve_trained_data\n",
    "from utils.text_feature_extractor import TextFeatureExtractor"
   ]
  },
  {
   "cell_type": "markdown",
   "metadata": {},
   "source": [
    "# SHAP"
   ]
  },
  {
   "cell_type": "code",
   "execution_count": null,
   "metadata": {
    "scrolled": true
   },
   "outputs": [],
   "source": [
    "(\n",
    "    bow_features,\n",
    "    bow_feature_names,\n",
    "    meta_features,\n",
    "    meta_feature_names,\n",
    "    combined_features,\n",
    "    y_train,\n",
    "    train_raw,\n",
    ") = retrieve_data()\n",
    "statements = train_raw['statement'].to_list()\n",
    "trained_df = retrieve_trained_data()\n",
    "predictions = trained_df['predictions'].to_list()\n",
    "extractor = TextFeatureExtractor(statements)\n",
    "\n",
    "model = retrieve_model()"
   ]
  },
  {
   "cell_type": "code",
   "execution_count": null,
   "metadata": {},
   "outputs": [
    {
     "name": "stdout",
     "output_type": "stream",
     "text": [
      "[5 0 1 1 4]\n",
      "[5, 0, 1, 1, 4]\n"
     ]
    }
   ],
   "source": [
    "print(f\"predictions: {predictions[:10]}\")\n",
    "print(f\"labels: {y_train[:10]}\")"
   ]
  },
  {
   "cell_type": "code",
   "execution_count": null,
   "metadata": {},
   "outputs": [],
   "source": [
    "shap_explainer = SHAPIndividual(\n",
    "    model,\n",
    "    background_data=combined_features[:1000],\n",
    "    bow_feature_names=bow_feature_names,\n",
    "    meta_feature_names=meta_feature_names,\n",
    ")\n",
    "\n",
    "shap_explainer.explain(combined_features)"
   ]
  },
  {
   "cell_type": "code",
   "execution_count": null,
   "metadata": {},
   "outputs": [],
   "source": [
    "tokens = list(map(extractor.vectorizer.build_tokenizer(),statements))[1000]"
   ]
  },
  {
   "cell_type": "code",
   "execution_count": 84,
   "metadata": {},
   "outputs": [],
   "source": [
    "combined_feature_names = list(bow_feature_names) + list(meta_feature_names)"
   ]
  },
  {
   "cell_type": "code",
   "execution_count": null,
   "metadata": {},
   "outputs": [],
   "source": [
    "shap_explainer.shap_values.shape"
   ]
  },
  {
   "cell_type": "code",
   "execution_count": null,
   "metadata": {},
   "outputs": [],
   "source": [
    "shap_values = shap_explainer.shap_values"
   ]
  },
  {
   "cell_type": "code",
   "execution_count": 92,
   "metadata": {},
   "outputs": [],
   "source": [
    "tokens = [token.lower() for token in tokens]"
   ]
  },
  {
   "cell_type": "code",
   "execution_count": 93,
   "metadata": {},
   "outputs": [
    {
     "name": "stdout",
     "output_type": "stream",
     "text": [
      "and: 0.009520081331493202\n",
      "assistance: -6.626985856200918e-05\n",
      "companies: 0.001920003793691194\n",
      "contracts: 2.4999998859129847e-05\n",
      "foreign: 0.012663645163361253\n",
      "form: 0.008685792419582868\n",
      "given: 0.002525053914155251\n",
      "grants: 0.021410498915138305\n",
      "in: 0.0103257155554752\n",
      "is: -0.0008986595655079555\n",
      "most: 0.01647429577924413\n",
      "nonprofits: 0.004534500427544117\n",
      "of: 0.013261653070272814\n",
      "the: 0.0012907544522579428\n",
      "to: -0.0002260586905725859\n",
      "Lexical Diversity (TTR): 0.015331082214889874\n",
      "Average Word Length: 0.0026972403004458557\n",
      "Avg Syllables per Word: 0.0020794251487274095\n",
      "Difficult Word Ratio: 0.006807496235708186\n",
      "Dependency Depth: 0.0024484524626359415\n",
      "Length: 0.004698908359230245\n",
      "sentiment: 0.008174952394310821\n"
     ]
    }
   ],
   "source": [
    "for i, elem in enumerate(shap_values):\n",
    "    if combined_feature_names[i] in tokens or combined_feature_names[i] in meta_feature_names:\n",
    "        print(f\"{combined_feature_names[i]}: {elem[5]}\")"
   ]
  },
  {
   "cell_type": "code",
   "execution_count": 32,
   "metadata": {},
   "outputs": [
    {
     "name": "stdout",
     "output_type": "stream",
     "text": [
      "SHAP Explanation for the first sample:\n"
     ]
    },
    {
     "ename": "IndexError",
     "evalue": "tuple index out of range",
     "output_type": "error",
     "traceback": [
      "\u001b[31m---------------------------------------------------------------------------\u001b[39m",
      "\u001b[31mIndexError\u001b[39m                                Traceback (most recent call last)",
      "\u001b[36mCell\u001b[39m\u001b[36m \u001b[39m\u001b[32mIn[32]\u001b[39m\u001b[32m, line 3\u001b[39m\n\u001b[32m      1\u001b[39m \u001b[38;5;66;03m# Visualize SHAP values for the first sample\u001b[39;00m\n\u001b[32m      2\u001b[39m \u001b[38;5;28mprint\u001b[39m(\u001b[33m\"\u001b[39m\u001b[33mSHAP Explanation for the first sample:\u001b[39m\u001b[33m\"\u001b[39m)\n\u001b[32m----> \u001b[39m\u001b[32m3\u001b[39m \u001b[43mshap\u001b[49m\u001b[43m.\u001b[49m\u001b[43msummary_plot\u001b[49m\u001b[43m(\u001b[49m\u001b[43mshap_values\u001b[49m\u001b[43m,\u001b[49m\u001b[43m \u001b[49m\u001b[43mcombined_features\u001b[49m\u001b[43m[\u001b[49m\u001b[32;43m0\u001b[39;49m\u001b[43m]\u001b[49m\u001b[43m,\u001b[49m\u001b[43m \u001b[49m\u001b[43mfeature_names\u001b[49m\u001b[43m=\u001b[49m\u001b[43mcombined_feature_names\u001b[49m\u001b[43m)\u001b[49m\n",
      "\u001b[36mFile \u001b[39m\u001b[32m~/fake_news_copilot/.venv/lib/python3.12/site-packages/shap/plots/_beeswarm.py:653\u001b[39m, in \u001b[36msummary_legacy\u001b[39m\u001b[34m(shap_values, features, feature_names, max_display, plot_type, color, axis_color, title, alpha, show, sort, color_bar, plot_size, layered_violin_max_num_bins, class_names, class_inds, color_bar_label, cmap, show_values_in_legend, use_log_scale, rng)\u001b[39m\n\u001b[32m    651\u001b[39m \u001b[38;5;28;01mif\u001b[39;00m features \u001b[38;5;129;01mis\u001b[39;00m \u001b[38;5;129;01mnot\u001b[39;00m \u001b[38;5;28;01mNone\u001b[39;00m:\n\u001b[32m    652\u001b[39m     shape_msg = \u001b[33m\"\u001b[39m\u001b[33mThe shape of the shap_values matrix does not match the shape of the provided data matrix.\u001b[39m\u001b[33m\"\u001b[39m\n\u001b[32m--> \u001b[39m\u001b[32m653\u001b[39m     \u001b[38;5;28;01mif\u001b[39;00m num_features - \u001b[32m1\u001b[39m == \u001b[43mfeatures\u001b[49m\u001b[43m.\u001b[49m\u001b[43mshape\u001b[49m\u001b[43m[\u001b[49m\u001b[32;43m1\u001b[39;49m\u001b[43m]\u001b[49m:\n\u001b[32m    654\u001b[39m         \u001b[38;5;28;01mraise\u001b[39;00m \u001b[38;5;167;01mValueError\u001b[39;00m(\n\u001b[32m    655\u001b[39m             shape_msg + \u001b[33m\"\u001b[39m\u001b[33m Perhaps the extra column in the shap_values matrix is the \u001b[39m\u001b[33m\"\u001b[39m\n\u001b[32m    656\u001b[39m             \u001b[33m\"\u001b[39m\u001b[33mconstant offset? Of so just pass shap_values[:,:-1].\u001b[39m\u001b[33m\"\u001b[39m\n\u001b[32m    657\u001b[39m         )\n\u001b[32m    658\u001b[39m     \u001b[38;5;28;01melse\u001b[39;00m:\n",
      "\u001b[31mIndexError\u001b[39m: tuple index out of range"
     ]
    },
    {
     "data": {
      "text/plain": [
       "<Figure size 640x480 with 0 Axes>"
      ]
     },
     "metadata": {},
     "output_type": "display_data"
    }
   ],
   "source": [
    "# Visualize SHAP values for the first sample\n",
    "print(\"SHAP Explanation for the first sample:\")\n",
    "shap.summary_plot(shap_values, combined_features[0], feature_names=combined_feature_names)"
   ]
  },
  {
   "cell_type": "code",
   "execution_count": null,
   "metadata": {},
   "outputs": [],
   "source": []
  }
 ],
 "metadata": {
  "kernelspec": {
   "display_name": "Python 3 (ipykernel)",
   "language": "python",
   "name": "python3"
  },
  "language_info": {
   "codemirror_mode": {
    "name": "ipython",
    "version": 3
   },
   "file_extension": ".py",
   "mimetype": "text/x-python",
   "name": "python",
   "nbconvert_exporter": "python",
   "pygments_lexer": "ipython3",
   "version": "3.12.3"
  }
 },
 "nbformat": 4,
 "nbformat_minor": 4
}
