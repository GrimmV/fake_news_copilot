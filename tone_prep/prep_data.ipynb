{
 "cells": [
  {
   "cell_type": "code",
   "execution_count": 24,
   "metadata": {},
   "outputs": [
    {
     "name": "stderr",
     "output_type": "stream",
     "text": [
      "c:\\Users\\Valentin\\Desktop\\Dissertation\\Code\\fake-news\\.venv\\Lib\\site-packages\\tqdm\\auto.py:21: TqdmWarning: IProgress not found. Please update jupyter and ipywidgets. See https://ipywidgets.readthedocs.io/en/stable/user_install.html\n",
      "  from .autonotebook import tqdm as notebook_tqdm\n"
     ]
    }
   ],
   "source": [
    "import pandas as pd\n",
    "import datasets"
   ]
  },
  {
   "cell_type": "code",
   "execution_count": 25,
   "metadata": {},
   "outputs": [],
   "source": [
    "dataset = \"chengxuphd/liar2\"\n",
    "dataset = datasets.load_dataset(dataset)\n",
    "liar_df = pd.DataFrame(dataset[\"train\"])"
   ]
  },
  {
   "cell_type": "code",
   "execution_count": 30,
   "metadata": {},
   "outputs": [
    {
     "data": {
      "text/plain": [
       "Index(['id', 'label', 'statement', 'date', 'subject', 'speaker',\n",
       "       'speaker_description', 'state_info', 'true_counts',\n",
       "       'mostly_true_counts', 'half_true_counts', 'mostly_false_counts',\n",
       "       'false_counts', 'pants_on_fire_counts', 'context', 'justification'],\n",
       "      dtype='object')"
      ]
     },
     "execution_count": 30,
     "metadata": {},
     "output_type": "execute_result"
    }
   ],
   "source": [
    "liar_df.columns"
   ]
  },
  {
   "cell_type": "code",
   "execution_count": 10,
   "metadata": {},
   "outputs": [],
   "source": [
    "df_2024 = pd.read_csv('politifact_data_2024.csv')\n",
    "df_2025 = pd.read_csv('politifact_data_2025.csv')\n"
   ]
  },
  {
   "cell_type": "code",
   "execution_count": 22,
   "metadata": {},
   "outputs": [
    {
     "data": {
      "text/plain": [
       "Index(['id', 'label', 'name', 'date', 'context', 'statement', 'avatar',\n",
       "       'speaker_description', 'true_counts', 'mostly_true_counts',\n",
       "       'half_true_counts', 'mostly_false_counts', 'false_counts',\n",
       "       'pants_on_fire_counts'],\n",
       "      dtype='object')"
      ]
     },
     "execution_count": 22,
     "metadata": {},
     "output_type": "execute_result"
    }
   ],
   "source": [
    "df_2024.columns"
   ]
  },
  {
   "cell_type": "code",
   "execution_count": 12,
   "metadata": {},
   "outputs": [],
   "source": [
    "# Concatenate the dataframes\n",
    "df_combined = pd.concat([df_2024, df_2025], ignore_index=True)\n",
    "df_combined[\"id\"] = df_combined.index"
   ]
  },
  {
   "cell_type": "code",
   "execution_count": 18,
   "metadata": {},
   "outputs": [
    {
     "name": "stdout",
     "output_type": "stream",
     "text": [
      "Count of entries per label after balancing:\n",
      "label\n",
      "0    46\n",
      "1    46\n",
      "2    46\n",
      "3    46\n",
      "4    46\n",
      "5    46\n",
      "Name: count, dtype: int64\n"
     ]
    },
    {
     "name": "stderr",
     "output_type": "stream",
     "text": [
      "C:\\Users\\Valentin\\AppData\\Local\\Temp\\ipykernel_6060\\1376282614.py:5: DeprecationWarning: DataFrameGroupBy.apply operated on the grouping columns. This behavior is deprecated, and in a future version of pandas the grouping columns will be excluded from the operation. Either pass `include_groups=False` to exclude the groupings or explicitly select the grouping columns after groupby to silence this warning.\n",
      "  df_balanced = df_combined.groupby('label').apply(lambda x: x.sample(n=min_count, random_state=42)).reset_index(drop=True)\n"
     ]
    }
   ],
   "source": [
    "# Get the minimum count of any label\n",
    "min_count = df_combined['label'].value_counts().min()\n",
    "\n",
    "# Create a balanced dataset by sampling min_count rows for each label\n",
    "df_balanced = df_combined.groupby('label').apply(lambda x: x.sample(n=min_count, random_state=42)).reset_index(drop=True)\n",
    "\n",
    "# Verify the balance\n",
    "print(\"Count of entries per label after balancing:\")\n",
    "print(df_balanced['label'].value_counts().sort_index())"
   ]
  },
  {
   "cell_type": "code",
   "execution_count": 38,
   "metadata": {},
   "outputs": [],
   "source": [
    "entries_per_class = int(df_balanced['label'].value_counts().sort_index()[0])"
   ]
  },
  {
   "cell_type": "code",
   "execution_count": 31,
   "metadata": {},
   "outputs": [
    {
     "data": {
      "text/plain": [
       "Index(['id', 'label', 'name', 'date', 'context', 'statement', 'avatar',\n",
       "       'speaker_description', 'true_counts', 'mostly_true_counts',\n",
       "       'half_true_counts', 'mostly_false_counts', 'false_counts',\n",
       "       'pants_on_fire_counts'],\n",
       "      dtype='object')"
      ]
     },
     "execution_count": 31,
     "metadata": {},
     "output_type": "execute_result"
    }
   ],
   "source": [
    "df_balanced.columns"
   ]
  },
  {
   "cell_type": "code",
   "execution_count": 32,
   "metadata": {},
   "outputs": [
    {
     "data": {
      "text/html": [
       "<div>\n",
       "<style scoped>\n",
       "    .dataframe tbody tr th:only-of-type {\n",
       "        vertical-align: middle;\n",
       "    }\n",
       "\n",
       "    .dataframe tbody tr th {\n",
       "        vertical-align: top;\n",
       "    }\n",
       "\n",
       "    .dataframe thead th {\n",
       "        text-align: right;\n",
       "    }\n",
       "</style>\n",
       "<table border=\"1\" class=\"dataframe\">\n",
       "  <thead>\n",
       "    <tr style=\"text-align: right;\">\n",
       "      <th></th>\n",
       "      <th>id</th>\n",
       "      <th>label</th>\n",
       "      <th>speaker</th>\n",
       "      <th>date</th>\n",
       "      <th>context</th>\n",
       "      <th>statement</th>\n",
       "      <th>avatar</th>\n",
       "      <th>speaker_description</th>\n",
       "      <th>true_counts</th>\n",
       "      <th>mostly_true_counts</th>\n",
       "      <th>half_true_counts</th>\n",
       "      <th>mostly_false_counts</th>\n",
       "      <th>false_counts</th>\n",
       "      <th>pants_on_fire_counts</th>\n",
       "    </tr>\n",
       "  </thead>\n",
       "  <tbody>\n",
       "    <tr>\n",
       "      <th>0</th>\n",
       "      <td>1377</td>\n",
       "      <td>0</td>\n",
       "      <td>X posts</td>\n",
       "      <td>March 22, 2024</td>\n",
       "      <td>an X post</td>\n",
       "      <td>A March 7 U.S. security alert … means the U.S....</td>\n",
       "      <td>https://static.politifact.com/CACHE/images/pol...</td>\n",
       "      <td>X, formerly Twitter, is a messaging service wh...</td>\n",
       "      <td>2.0</td>\n",
       "      <td>4.0</td>\n",
       "      <td>7.0</td>\n",
       "      <td>2.0</td>\n",
       "      <td>1.0</td>\n",
       "      <td>7.0</td>\n",
       "    </tr>\n",
       "    <tr>\n",
       "      <th>1</th>\n",
       "      <td>675</td>\n",
       "      <td>0</td>\n",
       "      <td>Facebook posts</td>\n",
       "      <td>August 29, 2024</td>\n",
       "      <td>a post</td>\n",
       "      <td>Vice President Kamala Harris was fired from Mc...</td>\n",
       "      <td>https://static.politifact.com/CACHE/images/pol...</td>\n",
       "      <td>Posters on Facebook and other social media net...</td>\n",
       "      <td>2.0</td>\n",
       "      <td>5.0</td>\n",
       "      <td>1.0</td>\n",
       "      <td>2.0</td>\n",
       "      <td>1.0</td>\n",
       "      <td>6.0</td>\n",
       "    </tr>\n",
       "    <tr>\n",
       "      <th>2</th>\n",
       "      <td>667</td>\n",
       "      <td>0</td>\n",
       "      <td>X posts</td>\n",
       "      <td>September 3, 2024</td>\n",
       "      <td>a video posted on X</td>\n",
       "      <td>On June 7, 2011, Kamala Harris was involved in...</td>\n",
       "      <td>https://static.politifact.com/CACHE/images/pol...</td>\n",
       "      <td>X, formerly Twitter, is a messaging service wh...</td>\n",
       "      <td>2.0</td>\n",
       "      <td>4.0</td>\n",
       "      <td>7.0</td>\n",
       "      <td>2.0</td>\n",
       "      <td>1.0</td>\n",
       "      <td>7.0</td>\n",
       "    </tr>\n",
       "    <tr>\n",
       "      <th>3</th>\n",
       "      <td>285</td>\n",
       "      <td>0</td>\n",
       "      <td>Social Media</td>\n",
       "      <td>October 31, 2024</td>\n",
       "      <td>a post</td>\n",
       "      <td>Video shows “voting machines in Kentucky are n...</td>\n",
       "      <td>https://static.politifact.com/CACHE/images/pol...</td>\n",
       "      <td>logo</td>\n",
       "      <td>2.0</td>\n",
       "      <td>2.0</td>\n",
       "      <td>2.0</td>\n",
       "      <td>3.0</td>\n",
       "      <td>7.0</td>\n",
       "      <td>1.0</td>\n",
       "    </tr>\n",
       "    <tr>\n",
       "      <th>4</th>\n",
       "      <td>745</td>\n",
       "      <td>0</td>\n",
       "      <td>X posts</td>\n",
       "      <td>August 19, 2024</td>\n",
       "      <td>a post</td>\n",
       "      <td>“Women don't even get their own restroom at th...</td>\n",
       "      <td>https://static.politifact.com/CACHE/images/pol...</td>\n",
       "      <td>X, formerly Twitter, is a messaging service wh...</td>\n",
       "      <td>2.0</td>\n",
       "      <td>4.0</td>\n",
       "      <td>7.0</td>\n",
       "      <td>2.0</td>\n",
       "      <td>1.0</td>\n",
       "      <td>7.0</td>\n",
       "    </tr>\n",
       "  </tbody>\n",
       "</table>\n",
       "</div>"
      ],
      "text/plain": [
       "     id  label         speaker               date              context  \\\n",
       "0  1377      0         X posts     March 22, 2024            an X post   \n",
       "1   675      0  Facebook posts    August 29, 2024               a post   \n",
       "2   667      0         X posts  September 3, 2024  a video posted on X   \n",
       "3   285      0    Social Media   October 31, 2024               a post   \n",
       "4   745      0         X posts    August 19, 2024               a post   \n",
       "\n",
       "                                           statement  \\\n",
       "0  A March 7 U.S. security alert … means the U.S....   \n",
       "1  Vice President Kamala Harris was fired from Mc...   \n",
       "2  On June 7, 2011, Kamala Harris was involved in...   \n",
       "3  Video shows “voting machines in Kentucky are n...   \n",
       "4  “Women don't even get their own restroom at th...   \n",
       "\n",
       "                                              avatar  \\\n",
       "0  https://static.politifact.com/CACHE/images/pol...   \n",
       "1  https://static.politifact.com/CACHE/images/pol...   \n",
       "2  https://static.politifact.com/CACHE/images/pol...   \n",
       "3  https://static.politifact.com/CACHE/images/pol...   \n",
       "4  https://static.politifact.com/CACHE/images/pol...   \n",
       "\n",
       "                                 speaker_description  true_counts  \\\n",
       "0  X, formerly Twitter, is a messaging service wh...          2.0   \n",
       "1  Posters on Facebook and other social media net...          2.0   \n",
       "2  X, formerly Twitter, is a messaging service wh...          2.0   \n",
       "3                                               logo          2.0   \n",
       "4  X, formerly Twitter, is a messaging service wh...          2.0   \n",
       "\n",
       "   mostly_true_counts  half_true_counts  mostly_false_counts  false_counts  \\\n",
       "0                 4.0               7.0                  2.0           1.0   \n",
       "1                 5.0               1.0                  2.0           1.0   \n",
       "2                 4.0               7.0                  2.0           1.0   \n",
       "3                 2.0               2.0                  3.0           7.0   \n",
       "4                 4.0               7.0                  2.0           1.0   \n",
       "\n",
       "   pants_on_fire_counts  \n",
       "0                   7.0  \n",
       "1                   6.0  \n",
       "2                   7.0  \n",
       "3                   1.0  \n",
       "4                   7.0  "
      ]
     },
     "execution_count": 32,
     "metadata": {},
     "output_type": "execute_result"
    }
   ],
   "source": [
    "df_balanced.rename(columns={\"name\": \"speaker\"}, inplace=True);df_balanced.head()"
   ]
  },
  {
   "cell_type": "code",
   "execution_count": 34,
   "metadata": {},
   "outputs": [
    {
     "data": {
      "text/html": [
       "<div>\n",
       "<style scoped>\n",
       "    .dataframe tbody tr th:only-of-type {\n",
       "        vertical-align: middle;\n",
       "    }\n",
       "\n",
       "    .dataframe tbody tr th {\n",
       "        vertical-align: top;\n",
       "    }\n",
       "\n",
       "    .dataframe thead th {\n",
       "        text-align: right;\n",
       "    }\n",
       "</style>\n",
       "<table border=\"1\" class=\"dataframe\">\n",
       "  <thead>\n",
       "    <tr style=\"text-align: right;\">\n",
       "      <th></th>\n",
       "      <th>id</th>\n",
       "      <th>label</th>\n",
       "      <th>speaker</th>\n",
       "      <th>date</th>\n",
       "      <th>context</th>\n",
       "      <th>statement</th>\n",
       "      <th>avatar</th>\n",
       "      <th>speaker_description</th>\n",
       "      <th>true_counts</th>\n",
       "      <th>mostly_true_counts</th>\n",
       "      <th>half_true_counts</th>\n",
       "      <th>mostly_false_counts</th>\n",
       "      <th>false_counts</th>\n",
       "      <th>pants_on_fire_counts</th>\n",
       "    </tr>\n",
       "  </thead>\n",
       "  <tbody>\n",
       "    <tr>\n",
       "      <th>0</th>\n",
       "      <td>13847</td>\n",
       "      <td>5</td>\n",
       "      <td>chris abele</td>\n",
       "      <td>October 2, 2017</td>\n",
       "      <td>a tweet</td>\n",
       "      <td>90 percent of Americans \"support universal bac...</td>\n",
       "      <td>None</td>\n",
       "      <td>Chris Abele is Milwaukee County Executive, a p...</td>\n",
       "      <td>1</td>\n",
       "      <td>4</td>\n",
       "      <td>5</td>\n",
       "      <td>3</td>\n",
       "      <td>5</td>\n",
       "      <td>2</td>\n",
       "    </tr>\n",
       "    <tr>\n",
       "      <th>1</th>\n",
       "      <td>13411</td>\n",
       "      <td>1</td>\n",
       "      <td>thom tillis</td>\n",
       "      <td>May 19, 2017</td>\n",
       "      <td>a press release supporting the Back The Blue A...</td>\n",
       "      <td>Last year was one of the deadliest years ever ...</td>\n",
       "      <td>None</td>\n",
       "      <td>Thom Tillis is a Republican who serves as U.S....</td>\n",
       "      <td>0</td>\n",
       "      <td>2</td>\n",
       "      <td>7</td>\n",
       "      <td>3</td>\n",
       "      <td>2</td>\n",
       "      <td>0</td>\n",
       "    </tr>\n",
       "    <tr>\n",
       "      <th>2</th>\n",
       "      <td>10882</td>\n",
       "      <td>0</td>\n",
       "      <td>chris christie</td>\n",
       "      <td>October 28, 2015</td>\n",
       "      <td>Boulder, Colo</td>\n",
       "      <td>Bernie Sanders's plan is \"to raise your taxes ...</td>\n",
       "      <td>None</td>\n",
       "      <td>Chris Christie announced June 6, 2023 that he ...</td>\n",
       "      <td>21</td>\n",
       "      <td>20</td>\n",
       "      <td>27</td>\n",
       "      <td>11</td>\n",
       "      <td>17</td>\n",
       "      <td>8</td>\n",
       "    </tr>\n",
       "    <tr>\n",
       "      <th>3</th>\n",
       "      <td>20697</td>\n",
       "      <td>4</td>\n",
       "      <td>lee zeldin</td>\n",
       "      <td>December 8, 2021</td>\n",
       "      <td>a Tweet</td>\n",
       "      <td>Voter ID is supported by an overwhelming major...</td>\n",
       "      <td>None</td>\n",
       "      <td>Lee Zeldin is a Republican representing New Yo...</td>\n",
       "      <td>1</td>\n",
       "      <td>2</td>\n",
       "      <td>0</td>\n",
       "      <td>0</td>\n",
       "      <td>0</td>\n",
       "      <td>0</td>\n",
       "    </tr>\n",
       "    <tr>\n",
       "      <th>4</th>\n",
       "      <td>6095</td>\n",
       "      <td>2</td>\n",
       "      <td>mitt romney</td>\n",
       "      <td>August 12, 2012</td>\n",
       "      <td>an interview on \"60 Minutes\"</td>\n",
       "      <td>Says Barack Obama \"robbed Medicare (of) $716 b...</td>\n",
       "      <td>None</td>\n",
       "      <td>Mitt Romney is a U.S. senator from Utah. He ra...</td>\n",
       "      <td>31</td>\n",
       "      <td>33</td>\n",
       "      <td>58</td>\n",
       "      <td>35</td>\n",
       "      <td>32</td>\n",
       "      <td>19</td>\n",
       "    </tr>\n",
       "  </tbody>\n",
       "</table>\n",
       "</div>"
      ],
      "text/plain": [
       "      id  label         speaker              date  \\\n",
       "0  13847      5     chris abele   October 2, 2017   \n",
       "1  13411      1     thom tillis      May 19, 2017   \n",
       "2  10882      0  chris christie  October 28, 2015   \n",
       "3  20697      4      lee zeldin  December 8, 2021   \n",
       "4   6095      2     mitt romney   August 12, 2012   \n",
       "\n",
       "                                             context  \\\n",
       "0                                            a tweet   \n",
       "1  a press release supporting the Back The Blue A...   \n",
       "2                                      Boulder, Colo   \n",
       "3                                            a Tweet   \n",
       "4                       an interview on \"60 Minutes\"   \n",
       "\n",
       "                                           statement avatar  \\\n",
       "0  90 percent of Americans \"support universal bac...   None   \n",
       "1  Last year was one of the deadliest years ever ...   None   \n",
       "2  Bernie Sanders's plan is \"to raise your taxes ...   None   \n",
       "3  Voter ID is supported by an overwhelming major...   None   \n",
       "4  Says Barack Obama \"robbed Medicare (of) $716 b...   None   \n",
       "\n",
       "                                 speaker_description  true_counts  \\\n",
       "0  Chris Abele is Milwaukee County Executive, a p...            1   \n",
       "1  Thom Tillis is a Republican who serves as U.S....            0   \n",
       "2  Chris Christie announced June 6, 2023 that he ...           21   \n",
       "3  Lee Zeldin is a Republican representing New Yo...            1   \n",
       "4  Mitt Romney is a U.S. senator from Utah. He ra...           31   \n",
       "\n",
       "   mostly_true_counts  half_true_counts  mostly_false_counts  false_counts  \\\n",
       "0                   4                 5                    3             5   \n",
       "1                   2                 7                    3             2   \n",
       "2                  20                27                   11            17   \n",
       "3                   2                 0                    0             0   \n",
       "4                  33                58                   35            32   \n",
       "\n",
       "   pants_on_fire_counts  \n",
       "0                     2  \n",
       "1                     0  \n",
       "2                     8  \n",
       "3                     0  \n",
       "4                    19  "
      ]
     },
     "execution_count": 34,
     "metadata": {},
     "output_type": "execute_result"
    }
   ],
   "source": [
    "relevant_columns = df_balanced.columns.tolist()\n",
    "liar_df[\"avatar\"] = None\n",
    "df_liar = liar_df[relevant_columns]; df_liar.head()\n"
   ]
  },
  {
   "cell_type": "code",
   "execution_count": 40,
   "metadata": {},
   "outputs": [
    {
     "name": "stderr",
     "output_type": "stream",
     "text": [
      "C:\\Users\\Valentin\\AppData\\Local\\Temp\\ipykernel_6060\\4008335585.py:1: DeprecationWarning: DataFrameGroupBy.apply operated on the grouping columns. This behavior is deprecated, and in a future version of pandas the grouping columns will be excluded from the operation. Either pass `include_groups=False` to exclude the groupings or explicitly select the grouping columns after groupby to silence this warning.\n",
      "  df_liar_balanced = df_liar.groupby('label').apply(lambda x: x.sample(n=entries_per_class, random_state=42)).reset_index(drop=True)\n"
     ]
    },
    {
     "data": {
      "text/plain": [
       "(276, 14)"
      ]
     },
     "execution_count": 40,
     "metadata": {},
     "output_type": "execute_result"
    }
   ],
   "source": [
    "df_liar_balanced = df_liar.groupby('label').apply(lambda x: x.sample(n=entries_per_class, random_state=42)).reset_index(drop=True)\n",
    "df_liar_balanced.head()\n",
    "df_liar_balanced.shape\n"
   ]
  },
  {
   "cell_type": "code",
   "execution_count": 41,
   "metadata": {},
   "outputs": [
    {
     "data": {
      "text/plain": [
       "(552, 14)"
      ]
     },
     "execution_count": 41,
     "metadata": {},
     "output_type": "execute_result"
    }
   ],
   "source": [
    "df_final = pd.concat([df_balanced, df_liar_balanced], ignore_index=True)\n",
    "df_final.shape\n"
   ]
  },
  {
   "cell_type": "code",
   "execution_count": 43,
   "metadata": {},
   "outputs": [
    {
     "data": {
      "text/html": [
       "<div>\n",
       "<style scoped>\n",
       "    .dataframe tbody tr th:only-of-type {\n",
       "        vertical-align: middle;\n",
       "    }\n",
       "\n",
       "    .dataframe tbody tr th {\n",
       "        vertical-align: top;\n",
       "    }\n",
       "\n",
       "    .dataframe thead th {\n",
       "        text-align: right;\n",
       "    }\n",
       "</style>\n",
       "<table border=\"1\" class=\"dataframe\">\n",
       "  <thead>\n",
       "    <tr style=\"text-align: right;\">\n",
       "      <th></th>\n",
       "      <th>id</th>\n",
       "      <th>label</th>\n",
       "      <th>speaker</th>\n",
       "      <th>date</th>\n",
       "      <th>context</th>\n",
       "      <th>statement</th>\n",
       "      <th>avatar</th>\n",
       "      <th>speaker_description</th>\n",
       "      <th>true_counts</th>\n",
       "      <th>mostly_true_counts</th>\n",
       "      <th>half_true_counts</th>\n",
       "      <th>mostly_false_counts</th>\n",
       "      <th>false_counts</th>\n",
       "      <th>pants_on_fire_counts</th>\n",
       "    </tr>\n",
       "  </thead>\n",
       "  <tbody>\n",
       "    <tr>\n",
       "      <th>0</th>\n",
       "      <td>0</td>\n",
       "      <td>0</td>\n",
       "      <td>X posts</td>\n",
       "      <td>March 22, 2024</td>\n",
       "      <td>an X post</td>\n",
       "      <td>A March 7 U.S. security alert … means the U.S....</td>\n",
       "      <td>https://static.politifact.com/CACHE/images/pol...</td>\n",
       "      <td>X, formerly Twitter, is a messaging service wh...</td>\n",
       "      <td>2.0</td>\n",
       "      <td>4.0</td>\n",
       "      <td>7.0</td>\n",
       "      <td>2.0</td>\n",
       "      <td>1.0</td>\n",
       "      <td>7.0</td>\n",
       "    </tr>\n",
       "    <tr>\n",
       "      <th>1</th>\n",
       "      <td>1</td>\n",
       "      <td>0</td>\n",
       "      <td>Facebook posts</td>\n",
       "      <td>August 29, 2024</td>\n",
       "      <td>a post</td>\n",
       "      <td>Vice President Kamala Harris was fired from Mc...</td>\n",
       "      <td>https://static.politifact.com/CACHE/images/pol...</td>\n",
       "      <td>Posters on Facebook and other social media net...</td>\n",
       "      <td>2.0</td>\n",
       "      <td>5.0</td>\n",
       "      <td>1.0</td>\n",
       "      <td>2.0</td>\n",
       "      <td>1.0</td>\n",
       "      <td>6.0</td>\n",
       "    </tr>\n",
       "    <tr>\n",
       "      <th>2</th>\n",
       "      <td>2</td>\n",
       "      <td>0</td>\n",
       "      <td>X posts</td>\n",
       "      <td>September 3, 2024</td>\n",
       "      <td>a video posted on X</td>\n",
       "      <td>On June 7, 2011, Kamala Harris was involved in...</td>\n",
       "      <td>https://static.politifact.com/CACHE/images/pol...</td>\n",
       "      <td>X, formerly Twitter, is a messaging service wh...</td>\n",
       "      <td>2.0</td>\n",
       "      <td>4.0</td>\n",
       "      <td>7.0</td>\n",
       "      <td>2.0</td>\n",
       "      <td>1.0</td>\n",
       "      <td>7.0</td>\n",
       "    </tr>\n",
       "    <tr>\n",
       "      <th>3</th>\n",
       "      <td>3</td>\n",
       "      <td>0</td>\n",
       "      <td>Social Media</td>\n",
       "      <td>October 31, 2024</td>\n",
       "      <td>a post</td>\n",
       "      <td>Video shows “voting machines in Kentucky are n...</td>\n",
       "      <td>https://static.politifact.com/CACHE/images/pol...</td>\n",
       "      <td>logo</td>\n",
       "      <td>2.0</td>\n",
       "      <td>2.0</td>\n",
       "      <td>2.0</td>\n",
       "      <td>3.0</td>\n",
       "      <td>7.0</td>\n",
       "      <td>1.0</td>\n",
       "    </tr>\n",
       "    <tr>\n",
       "      <th>4</th>\n",
       "      <td>4</td>\n",
       "      <td>0</td>\n",
       "      <td>X posts</td>\n",
       "      <td>August 19, 2024</td>\n",
       "      <td>a post</td>\n",
       "      <td>“Women don't even get their own restroom at th...</td>\n",
       "      <td>https://static.politifact.com/CACHE/images/pol...</td>\n",
       "      <td>X, formerly Twitter, is a messaging service wh...</td>\n",
       "      <td>2.0</td>\n",
       "      <td>4.0</td>\n",
       "      <td>7.0</td>\n",
       "      <td>2.0</td>\n",
       "      <td>1.0</td>\n",
       "      <td>7.0</td>\n",
       "    </tr>\n",
       "  </tbody>\n",
       "</table>\n",
       "</div>"
      ],
      "text/plain": [
       "   id  label         speaker               date              context  \\\n",
       "0   0      0         X posts     March 22, 2024            an X post   \n",
       "1   1      0  Facebook posts    August 29, 2024               a post   \n",
       "2   2      0         X posts  September 3, 2024  a video posted on X   \n",
       "3   3      0    Social Media   October 31, 2024               a post   \n",
       "4   4      0         X posts    August 19, 2024               a post   \n",
       "\n",
       "                                           statement  \\\n",
       "0  A March 7 U.S. security alert … means the U.S....   \n",
       "1  Vice President Kamala Harris was fired from Mc...   \n",
       "2  On June 7, 2011, Kamala Harris was involved in...   \n",
       "3  Video shows “voting machines in Kentucky are n...   \n",
       "4  “Women don't even get their own restroom at th...   \n",
       "\n",
       "                                              avatar  \\\n",
       "0  https://static.politifact.com/CACHE/images/pol...   \n",
       "1  https://static.politifact.com/CACHE/images/pol...   \n",
       "2  https://static.politifact.com/CACHE/images/pol...   \n",
       "3  https://static.politifact.com/CACHE/images/pol...   \n",
       "4  https://static.politifact.com/CACHE/images/pol...   \n",
       "\n",
       "                                 speaker_description  true_counts  \\\n",
       "0  X, formerly Twitter, is a messaging service wh...          2.0   \n",
       "1  Posters on Facebook and other social media net...          2.0   \n",
       "2  X, formerly Twitter, is a messaging service wh...          2.0   \n",
       "3                                               logo          2.0   \n",
       "4  X, formerly Twitter, is a messaging service wh...          2.0   \n",
       "\n",
       "   mostly_true_counts  half_true_counts  mostly_false_counts  false_counts  \\\n",
       "0                 4.0               7.0                  2.0           1.0   \n",
       "1                 5.0               1.0                  2.0           1.0   \n",
       "2                 4.0               7.0                  2.0           1.0   \n",
       "3                 2.0               2.0                  3.0           7.0   \n",
       "4                 4.0               7.0                  2.0           1.0   \n",
       "\n",
       "   pants_on_fire_counts  \n",
       "0                   7.0  \n",
       "1                   6.0  \n",
       "2                   7.0  \n",
       "3                   1.0  \n",
       "4                   7.0  "
      ]
     },
     "execution_count": 43,
     "metadata": {},
     "output_type": "execute_result"
    }
   ],
   "source": [
    "df_final[\"id\"] = df_final.index\n",
    "df_final.head()\n"
   ]
  },
  {
   "cell_type": "code",
   "execution_count": 44,
   "metadata": {},
   "outputs": [],
   "source": [
    "df_final.to_csv(\"train_df.csv\", index=False)"
   ]
  },
  {
   "cell_type": "code",
   "execution_count": 45,
   "metadata": {},
   "outputs": [
    {
     "name": "stderr",
     "output_type": "stream",
     "text": [
      "C:\\Users\\Valentin\\AppData\\Local\\Temp\\ipykernel_6060\\3800224448.py:1: DeprecationWarning: DataFrameGroupBy.apply operated on the grouping columns. This behavior is deprecated, and in a future version of pandas the grouping columns will be excluded from the operation. Either pass `include_groups=False` to exclude the groupings or explicitly select the grouping columns after groupby to silence this warning.\n",
      "  final_df = df_final.groupby('label').apply(lambda x: x.sample(n=40, random_state=42)).reset_index(drop=True)\n"
     ]
    }
   ],
   "source": [
    "final_df = df_final.groupby('label').apply(lambda x: x.sample(n=40, random_state=42)).reset_index(drop=True)"
   ]
  },
  {
   "cell_type": "code",
   "execution_count": 47,
   "metadata": {},
   "outputs": [],
   "source": [
    "final_df.to_csv(\"train_df_small.csv\", index=False)\n"
   ]
  },
  {
   "cell_type": "code",
   "execution_count": null,
   "metadata": {},
   "outputs": [],
   "source": []
  }
 ],
 "metadata": {
  "kernelspec": {
   "display_name": ".venv",
   "language": "python",
   "name": "python3"
  },
  "language_info": {
   "codemirror_mode": {
    "name": "ipython",
    "version": 3
   },
   "file_extension": ".py",
   "mimetype": "text/x-python",
   "name": "python",
   "nbconvert_exporter": "python",
   "pygments_lexer": "ipython3",
   "version": "3.11.5"
  }
 },
 "nbformat": 4,
 "nbformat_minor": 2
}
